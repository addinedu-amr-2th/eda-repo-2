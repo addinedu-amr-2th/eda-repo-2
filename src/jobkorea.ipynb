{
 "cells": [
  {
   "cell_type": "markdown",
   "metadata": {},
   "source": [
    "### 잡코리아"
   ]
  },
  {
   "cell_type": "code",
   "execution_count": 15,
   "metadata": {},
   "outputs": [],
   "source": [
    "import requests\n",
    "from bs4 import BeautifulSoup\n",
    "import time\n",
    "import datetime\n",
    "from urllib.request import urlopen\n",
    "import urllib\n",
    "from urllib.request import Request"
   ]
  },
  {
   "attachments": {},
   "cell_type": "markdown",
   "metadata": {},
   "source": [
    "크롤링 날짜, 회사명, 직무, url, 경력, 근무지, 지원방식(홈페이지 지원) 대략적인 정보 긁어오기"
   ]
  },
  {
   "attachments": {},
   "cell_type": "markdown",
   "metadata": {},
   "source": [
    "- 데이터 정리 시 협업의 용이성과 크롤링 시 봇감지에 걸리는 것을 방지하기 위해 파일 여러개로 분리"
   ]
  },
  {
   "cell_type": "code",
   "execution_count": 58,
   "metadata": {},
   "outputs": [],
   "source": [
    "f = open('../../../data/jobkorea_robot.csv', 'w')\n",
    "f.write(\"date,회사명,직무,url,경력,위치,지원방식\" + '\\n')\n",
    "\n",
    "keyword = '로봇'"
   ]
  },
  {
   "cell_type": "code",
   "execution_count": 25,
   "metadata": {},
   "outputs": [
    {
     "name": "stdout",
     "output_type": "stream",
     "text": [
      "1번째 페이지 내 로봇 의 채용공고 크롤링을 완료했습니다.\n",
      "최종 엑셀 작업 마무리 중 입니다.\n",
      "2번째 페이지 내 로봇 의 채용공고 크롤링을 완료했습니다.\n",
      "최종 엑셀 작업 마무리 중 입니다.\n",
      "3번째 페이지 내 로봇 의 채용공고 크롤링을 완료했습니다.\n",
      "최종 엑셀 작업 마무리 중 입니다.\n",
      "4번째 페이지 내 로봇 의 채용공고 크롤링을 완료했습니다.\n",
      "최종 엑셀 작업 마무리 중 입니다.\n",
      "5번째 페이지 내 로봇 의 채용공고 크롤링을 완료했습니다.\n",
      "최종 엑셀 작업 마무리 중 입니다.\n",
      "6번째 페이지 내 로봇 의 채용공고 크롤링을 완료했습니다.\n",
      "최종 엑셀 작업 마무리 중 입니다.\n",
      "7번째 페이지 내 로봇 의 채용공고 크롤링을 완료했습니다.\n",
      "최종 엑셀 작업 마무리 중 입니다.\n",
      "8번째 페이지 내 로봇 의 채용공고 크롤링을 완료했습니다.\n",
      "최종 엑셀 작업 마무리 중 입니다.\n",
      "9번째 페이지 내 로봇 의 채용공고 크롤링을 완료했습니다.\n",
      "최종 엑셀 작업 마무리 중 입니다.\n",
      "10번째 페이지 내 로봇 의 채용공고 크롤링을 완료했습니다.\n",
      "최종 엑셀 작업 마무리 중 입니다.\n",
      "11번째 페이지 내 로봇 의 채용공고 크롤링을 완료했습니다.\n",
      "최종 엑셀 작업 마무리 중 입니다.\n",
      "12번째 페이지 내 로봇 의 채용공고 크롤링을 완료했습니다.\n",
      "최종 엑셀 작업 마무리 중 입니다.\n",
      "13번째 페이지 내 로봇 의 채용공고 크롤링을 완료했습니다.\n",
      "최종 엑셀 작업 마무리 중 입니다.\n",
      "14번째 페이지 내 로봇 의 채용공고 크롤링을 완료했습니다.\n",
      "최종 엑셀 작업 마무리 중 입니다.\n",
      "15번째 페이지 내 로봇 의 채용공고 크롤링을 완료했습니다.\n",
      "최종 엑셀 작업 마무리 중 입니다.\n",
      "16번째 페이지 내 로봇 의 채용공고 크롤링을 완료했습니다.\n",
      "최종 엑셀 작업 마무리 중 입니다.\n",
      "17번째 페이지 내 로봇 의 채용공고 크롤링을 완료했습니다.\n",
      "최종 엑셀 작업 마무리 중 입니다.\n",
      "18번째 페이지 내 로봇 의 채용공고 크롤링을 완료했습니다.\n",
      "최종 엑셀 작업 마무리 중 입니다.\n",
      "19번째 페이지 내 로봇 의 채용공고 크롤링을 완료했습니다.\n",
      "최종 엑셀 작업 마무리 중 입니다.\n",
      "잡코리아 크롤링이 완료되었습니다.\n"
     ]
    }
   ],
   "source": [
    "for n in range(1, 20):\n",
    "    raw = requests.get(\n",
    "        \"https://www.jobkorea.co.kr/Search/?stext={}&tabType=recruit&Page_No=\".format(keyword)+str(n),\n",
    "        headers={'User-Agent':'Mozilla/5.0'})\n",
    "    html = BeautifulSoup(raw.text, \"html.parser\")\n",
    "    results = html.select(\"li.list-post\")\n",
    "\n",
    "    for ar in  results[0:20]:\n",
    "        company_name = ar.select_one(\"a.name\").text.strip()\n",
    "        detail = ar.select_one(\"a.title\").text.strip()\n",
    "        url = 'https://www.jobkorea.co.kr'+ar.find(\"a\")['href']\n",
    "        exp = ar.select_one(\"span.exp\").text.strip()\n",
    "        location = ar.select_one(\"span.loc\").text.strip()\n",
    "        apply = ar.select_one(\"div.post-list-apply\").text.strip()\n",
    "        company_name = company_name.replace(\",\", \"\")\n",
    "        location = location.replace(\" 외\", \"\")\n",
    "        now = datetime.datetime.now()\n",
    "        nowDate = now.strftime('%Y-%m-%d')\n",
    "        f.write(nowDate + ',' +company_name + ',' + detail + ','\n",
    "            + url + ',' + exp + ',' + location + ',' + apply + '\\n')\n",
    "        time.sleep(1)\n",
    "\n",
    "    print(\n",
    "        str(n) + \"번째 페이지 내 \" \n",
    "        + str(keyword) + \" 의 채용공고 크롤링을 완료했습니다.\") \n",
    "    print(\"최종 엑셀 작업 마무리 중 입니다.\")\n",
    "\n",
    "f.close()\n",
    "\n",
    "print(\"잡코리아 크롤링이 완료되었습니다.\")"
   ]
  },
  {
   "cell_type": "code",
   "execution_count": 26,
   "metadata": {},
   "outputs": [],
   "source": [
    "f = open('../../../data/jobkorea_robot(2).csv', 'w')\n",
    "f.write(\"date,회사명,직무,url,경력,위치,지원방식\" + '\\n')\n",
    "\n",
    "keyword = '로봇'"
   ]
  },
  {
   "cell_type": "code",
   "execution_count": 27,
   "metadata": {},
   "outputs": [
    {
     "name": "stdout",
     "output_type": "stream",
     "text": [
      "20번째 페이지 내 로봇 의 채용공고 크롤링을 완료했습니다.\n",
      "최종 엑셀 작업 마무리 중 입니다.\n",
      "21번째 페이지 내 로봇 의 채용공고 크롤링을 완료했습니다.\n",
      "최종 엑셀 작업 마무리 중 입니다.\n",
      "22번째 페이지 내 로봇 의 채용공고 크롤링을 완료했습니다.\n",
      "최종 엑셀 작업 마무리 중 입니다.\n",
      "23번째 페이지 내 로봇 의 채용공고 크롤링을 완료했습니다.\n",
      "최종 엑셀 작업 마무리 중 입니다.\n",
      "24번째 페이지 내 로봇 의 채용공고 크롤링을 완료했습니다.\n",
      "최종 엑셀 작업 마무리 중 입니다.\n",
      "25번째 페이지 내 로봇 의 채용공고 크롤링을 완료했습니다.\n",
      "최종 엑셀 작업 마무리 중 입니다.\n",
      "26번째 페이지 내 로봇 의 채용공고 크롤링을 완료했습니다.\n",
      "최종 엑셀 작업 마무리 중 입니다.\n",
      "27번째 페이지 내 로봇 의 채용공고 크롤링을 완료했습니다.\n",
      "최종 엑셀 작업 마무리 중 입니다.\n",
      "28번째 페이지 내 로봇 의 채용공고 크롤링을 완료했습니다.\n",
      "최종 엑셀 작업 마무리 중 입니다.\n",
      "29번째 페이지 내 로봇 의 채용공고 크롤링을 완료했습니다.\n",
      "최종 엑셀 작업 마무리 중 입니다.\n",
      "30번째 페이지 내 로봇 의 채용공고 크롤링을 완료했습니다.\n",
      "최종 엑셀 작업 마무리 중 입니다.\n",
      "31번째 페이지 내 로봇 의 채용공고 크롤링을 완료했습니다.\n",
      "최종 엑셀 작업 마무리 중 입니다.\n",
      "32번째 페이지 내 로봇 의 채용공고 크롤링을 완료했습니다.\n",
      "최종 엑셀 작업 마무리 중 입니다.\n",
      "33번째 페이지 내 로봇 의 채용공고 크롤링을 완료했습니다.\n",
      "최종 엑셀 작업 마무리 중 입니다.\n",
      "34번째 페이지 내 로봇 의 채용공고 크롤링을 완료했습니다.\n",
      "최종 엑셀 작업 마무리 중 입니다.\n",
      "35번째 페이지 내 로봇 의 채용공고 크롤링을 완료했습니다.\n",
      "최종 엑셀 작업 마무리 중 입니다.\n",
      "36번째 페이지 내 로봇 의 채용공고 크롤링을 완료했습니다.\n",
      "최종 엑셀 작업 마무리 중 입니다.\n",
      "37번째 페이지 내 로봇 의 채용공고 크롤링을 완료했습니다.\n",
      "최종 엑셀 작업 마무리 중 입니다.\n",
      "38번째 페이지 내 로봇 의 채용공고 크롤링을 완료했습니다.\n",
      "최종 엑셀 작업 마무리 중 입니다.\n",
      "39번째 페이지 내 로봇 의 채용공고 크롤링을 완료했습니다.\n",
      "최종 엑셀 작업 마무리 중 입니다.\n",
      "잡코리아 크롤링이 완료되었습니다.\n"
     ]
    }
   ],
   "source": [
    "for n in range(20, 40):\n",
    "    raw = requests.get(\n",
    "        \"https://www.jobkorea.co.kr/Search/?stext={}&tabType=recruit&Page_No=\".format(keyword)+str(n),\n",
    "        headers={'User-Agent':'Mozilla/5.0'})\n",
    "    html = BeautifulSoup(raw.text, \"html.parser\")\n",
    "    results = html.select(\"li.list-post\")\n",
    "\n",
    "    for ar in  results[0:20]:\n",
    "        company_name = ar.select_one(\"a.name\").text.strip()\n",
    "        detail = ar.select_one(\"a.title\").text.strip()\n",
    "        url = 'https://www.jobkorea.co.kr'+ar.find(\"a\")['href']\n",
    "        exp = ar.select_one(\"span.exp\").text.strip()\n",
    "        location = ar.select_one(\"span.loc\").text.strip()\n",
    "        apply = ar.select_one(\"div.post-list-apply\").text.strip()\n",
    "        company_name = company_name.replace(\",\", \"\")\n",
    "        location = location.replace(\" 외\", \"\")\n",
    "        now = datetime.datetime.now()\n",
    "        nowDate = now.strftime('%Y-%m-%d')\n",
    "        f.write(nowDate + ',' +company_name + ',' + detail + ','\n",
    "            + url + ',' + exp + ',' + location + ',' + apply + '\\n')\n",
    "        time.sleep(1)\n",
    "\n",
    "    print(\n",
    "        str(n) + \"번째 페이지 내 \" \n",
    "        + str(keyword) + \" 의 채용공고 크롤링을 완료했습니다.\") \n",
    "    print(\"최종 엑셀 작업 마무리 중 입니다.\")\n",
    "\n",
    "f.close()\n",
    "\n",
    "print(\"잡코리아 크롤링이 완료되었습니다.\")"
   ]
  },
  {
   "cell_type": "code",
   "execution_count": 29,
   "metadata": {},
   "outputs": [],
   "source": [
    "f = open('../../../data/jobkorea_robot(3).csv', 'w')\n",
    "f.write(\"date,회사명,직무,url,경력,위치,지원방식\" + '\\n')\n",
    "\n",
    "keyword = '로봇'"
   ]
  },
  {
   "cell_type": "code",
   "execution_count": 30,
   "metadata": {},
   "outputs": [
    {
     "name": "stdout",
     "output_type": "stream",
     "text": [
      "40번째 페이지 내 로봇 의 채용공고 크롤링을 완료했습니다.\n",
      "최종 엑셀 작업 마무리 중 입니다.\n",
      "41번째 페이지 내 로봇 의 채용공고 크롤링을 완료했습니다.\n",
      "최종 엑셀 작업 마무리 중 입니다.\n",
      "42번째 페이지 내 로봇 의 채용공고 크롤링을 완료했습니다.\n",
      "최종 엑셀 작업 마무리 중 입니다.\n",
      "43번째 페이지 내 로봇 의 채용공고 크롤링을 완료했습니다.\n",
      "최종 엑셀 작업 마무리 중 입니다.\n",
      "44번째 페이지 내 로봇 의 채용공고 크롤링을 완료했습니다.\n",
      "최종 엑셀 작업 마무리 중 입니다.\n",
      "45번째 페이지 내 로봇 의 채용공고 크롤링을 완료했습니다.\n",
      "최종 엑셀 작업 마무리 중 입니다.\n",
      "46번째 페이지 내 로봇 의 채용공고 크롤링을 완료했습니다.\n",
      "최종 엑셀 작업 마무리 중 입니다.\n",
      "47번째 페이지 내 로봇 의 채용공고 크롤링을 완료했습니다.\n",
      "최종 엑셀 작업 마무리 중 입니다.\n",
      "48번째 페이지 내 로봇 의 채용공고 크롤링을 완료했습니다.\n",
      "최종 엑셀 작업 마무리 중 입니다.\n",
      "49번째 페이지 내 로봇 의 채용공고 크롤링을 완료했습니다.\n",
      "최종 엑셀 작업 마무리 중 입니다.\n",
      "50번째 페이지 내 로봇 의 채용공고 크롤링을 완료했습니다.\n",
      "최종 엑셀 작업 마무리 중 입니다.\n",
      "51번째 페이지 내 로봇 의 채용공고 크롤링을 완료했습니다.\n",
      "최종 엑셀 작업 마무리 중 입니다.\n",
      "52번째 페이지 내 로봇 의 채용공고 크롤링을 완료했습니다.\n",
      "최종 엑셀 작업 마무리 중 입니다.\n",
      "53번째 페이지 내 로봇 의 채용공고 크롤링을 완료했습니다.\n",
      "최종 엑셀 작업 마무리 중 입니다.\n",
      "54번째 페이지 내 로봇 의 채용공고 크롤링을 완료했습니다.\n",
      "최종 엑셀 작업 마무리 중 입니다.\n",
      "55번째 페이지 내 로봇 의 채용공고 크롤링을 완료했습니다.\n",
      "최종 엑셀 작업 마무리 중 입니다.\n",
      "56번째 페이지 내 로봇 의 채용공고 크롤링을 완료했습니다.\n",
      "최종 엑셀 작업 마무리 중 입니다.\n",
      "57번째 페이지 내 로봇 의 채용공고 크롤링을 완료했습니다.\n",
      "최종 엑셀 작업 마무리 중 입니다.\n",
      "58번째 페이지 내 로봇 의 채용공고 크롤링을 완료했습니다.\n",
      "최종 엑셀 작업 마무리 중 입니다.\n",
      "59번째 페이지 내 로봇 의 채용공고 크롤링을 완료했습니다.\n",
      "최종 엑셀 작업 마무리 중 입니다.\n",
      "잡코리아 크롤링이 완료되었습니다.\n"
     ]
    }
   ],
   "source": [
    "for n in range(40, 60):\n",
    "    raw = requests.get(\n",
    "        \"https://www.jobkorea.co.kr/Search/?stext={}&tabType=recruit&Page_No=\".format(keyword)+str(n),\n",
    "        headers={'User-Agent':'Mozilla/5.0'})\n",
    "    html = BeautifulSoup(raw.text, \"html.parser\")\n",
    "    results = html.select(\"li.list-post\")\n",
    "\n",
    "    for ar in  results[0:20]:\n",
    "        company_name = ar.select_one(\"a.name\").text.strip()\n",
    "        detail = ar.select_one(\"a.title\").text.strip()\n",
    "        url = 'https://www.jobkorea.co.kr'+ar.find(\"a\")['href']\n",
    "        exp = ar.select_one(\"span.exp\").text.strip()\n",
    "        location = ar.select_one(\"span.loc\").text.strip()\n",
    "        apply = ar.select_one(\"div.post-list-apply\").text.strip()\n",
    "        company_name = company_name.replace(\",\", \"\")\n",
    "        location = location.replace(\" 외\", \"\")\n",
    "        now = datetime.datetime.now()\n",
    "        nowDate = now.strftime('%Y-%m-%d')\n",
    "        f.write(nowDate + ',' +company_name + ',' + detail + ','\n",
    "            + url + ',' + exp + ',' + location + ',' + apply + '\\n')\n",
    "        time.sleep(1)\n",
    "\n",
    "    print(\n",
    "        str(n) + \"번째 페이지 내 \" \n",
    "        + str(keyword) + \" 의 채용공고 크롤링을 완료했습니다.\") \n",
    "    print(\"최종 엑셀 작업 마무리 중 입니다.\")\n",
    "\n",
    "f.close()\n",
    "\n",
    "print(\"잡코리아 크롤링이 완료되었습니다.\")"
   ]
  },
  {
   "cell_type": "code",
   "execution_count": 31,
   "metadata": {},
   "outputs": [],
   "source": [
    "f = open('../../../data/jobkorea_robot(4).csv', 'w')\n",
    "f.write(\"date,회사명,직무,url,경력,위치,지원방식\" + '\\n')\n",
    "\n",
    "keyword = '로봇'"
   ]
  },
  {
   "cell_type": "code",
   "execution_count": 32,
   "metadata": {},
   "outputs": [
    {
     "name": "stdout",
     "output_type": "stream",
     "text": [
      "60번째 페이지 내 로봇 의 채용공고 크롤링을 완료했습니다.\n",
      "최종 엑셀 작업 마무리 중 입니다.\n",
      "61번째 페이지 내 로봇 의 채용공고 크롤링을 완료했습니다.\n",
      "최종 엑셀 작업 마무리 중 입니다.\n",
      "62번째 페이지 내 로봇 의 채용공고 크롤링을 완료했습니다.\n",
      "최종 엑셀 작업 마무리 중 입니다.\n",
      "63번째 페이지 내 로봇 의 채용공고 크롤링을 완료했습니다.\n",
      "최종 엑셀 작업 마무리 중 입니다.\n",
      "64번째 페이지 내 로봇 의 채용공고 크롤링을 완료했습니다.\n",
      "최종 엑셀 작업 마무리 중 입니다.\n",
      "65번째 페이지 내 로봇 의 채용공고 크롤링을 완료했습니다.\n",
      "최종 엑셀 작업 마무리 중 입니다.\n",
      "66번째 페이지 내 로봇 의 채용공고 크롤링을 완료했습니다.\n",
      "최종 엑셀 작업 마무리 중 입니다.\n",
      "67번째 페이지 내 로봇 의 채용공고 크롤링을 완료했습니다.\n",
      "최종 엑셀 작업 마무리 중 입니다.\n",
      "68번째 페이지 내 로봇 의 채용공고 크롤링을 완료했습니다.\n",
      "최종 엑셀 작업 마무리 중 입니다.\n",
      "69번째 페이지 내 로봇 의 채용공고 크롤링을 완료했습니다.\n",
      "최종 엑셀 작업 마무리 중 입니다.\n",
      "70번째 페이지 내 로봇 의 채용공고 크롤링을 완료했습니다.\n",
      "최종 엑셀 작업 마무리 중 입니다.\n",
      "71번째 페이지 내 로봇 의 채용공고 크롤링을 완료했습니다.\n",
      "최종 엑셀 작업 마무리 중 입니다.\n",
      "72번째 페이지 내 로봇 의 채용공고 크롤링을 완료했습니다.\n",
      "최종 엑셀 작업 마무리 중 입니다.\n",
      "73번째 페이지 내 로봇 의 채용공고 크롤링을 완료했습니다.\n",
      "최종 엑셀 작업 마무리 중 입니다.\n",
      "74번째 페이지 내 로봇 의 채용공고 크롤링을 완료했습니다.\n",
      "최종 엑셀 작업 마무리 중 입니다.\n",
      "75번째 페이지 내 로봇 의 채용공고 크롤링을 완료했습니다.\n",
      "최종 엑셀 작업 마무리 중 입니다.\n",
      "76번째 페이지 내 로봇 의 채용공고 크롤링을 완료했습니다.\n",
      "최종 엑셀 작업 마무리 중 입니다.\n",
      "77번째 페이지 내 로봇 의 채용공고 크롤링을 완료했습니다.\n",
      "최종 엑셀 작업 마무리 중 입니다.\n",
      "78번째 페이지 내 로봇 의 채용공고 크롤링을 완료했습니다.\n",
      "최종 엑셀 작업 마무리 중 입니다.\n",
      "79번째 페이지 내 로봇 의 채용공고 크롤링을 완료했습니다.\n",
      "최종 엑셀 작업 마무리 중 입니다.\n",
      "잡코리아 크롤링이 완료되었습니다.\n"
     ]
    }
   ],
   "source": [
    "for n in range(60, 80):\n",
    "    raw = requests.get(\n",
    "        \"https://www.jobkorea.co.kr/Search/?stext={}&tabType=recruit&Page_No=\".format(keyword)+str(n),\n",
    "        headers={'User-Agent':'Mozilla/5.0'})\n",
    "    html = BeautifulSoup(raw.text, \"html.parser\")\n",
    "    results = html.select(\"li.list-post\")\n",
    "\n",
    "    for ar in  results[0:20]:\n",
    "        company_name = ar.select_one(\"a.name\").text.strip()\n",
    "        detail = ar.select_one(\"a.title\").text.strip()\n",
    "        url = 'https://www.jobkorea.co.kr'+ar.find(\"a\")['href']\n",
    "        exp = ar.select_one(\"span.exp\").text.strip()\n",
    "        location = ar.select_one(\"span.loc\").text.strip()\n",
    "        apply = ar.select_one(\"div.post-list-apply\").text.strip()\n",
    "        company_name = company_name.replace(\",\", \"\")\n",
    "        location = location.replace(\" 외\", \"\")\n",
    "        now = datetime.datetime.now()\n",
    "        nowDate = now.strftime('%Y-%m-%d')\n",
    "        f.write(nowDate + ',' +company_name + ',' + detail + ','\n",
    "            + url + ',' + exp + ',' + location + ',' + apply + '\\n')\n",
    "        time.sleep(1)\n",
    "\n",
    "    print(\n",
    "        str(n) + \"번째 페이지 내 \" \n",
    "        + str(keyword) + \" 의 채용공고 크롤링을 완료했습니다.\") \n",
    "    print(\"최종 엑셀 작업 마무리 중 입니다.\")\n",
    "\n",
    "f.close()\n",
    "\n",
    "print(\"잡코리아 크롤링이 완료되었습니다.\")"
   ]
  },
  {
   "cell_type": "code",
   "execution_count": 42,
   "metadata": {},
   "outputs": [],
   "source": [
    "f = open('../../../data/jobkorea_robot(8).csv', 'w')\n",
    "f.write(\"date,회사명,직무,url,경력,위치,지원방식\" + '\\n')\n",
    "\n",
    "keyword = '로봇'"
   ]
  },
  {
   "cell_type": "code",
   "execution_count": 43,
   "metadata": {},
   "outputs": [
    {
     "name": "stdout",
     "output_type": "stream",
     "text": [
      "140번째 페이지 내 로봇 의 채용공고 크롤링을 완료했습니다.\n",
      "최종 엑셀 작업 마무리 중 입니다.\n",
      "141번째 페이지 내 로봇 의 채용공고 크롤링을 완료했습니다.\n",
      "최종 엑셀 작업 마무리 중 입니다.\n",
      "142번째 페이지 내 로봇 의 채용공고 크롤링을 완료했습니다.\n",
      "최종 엑셀 작업 마무리 중 입니다.\n",
      "143번째 페이지 내 로봇 의 채용공고 크롤링을 완료했습니다.\n",
      "최종 엑셀 작업 마무리 중 입니다.\n",
      "144번째 페이지 내 로봇 의 채용공고 크롤링을 완료했습니다.\n",
      "최종 엑셀 작업 마무리 중 입니다.\n",
      "145번째 페이지 내 로봇 의 채용공고 크롤링을 완료했습니다.\n",
      "최종 엑셀 작업 마무리 중 입니다.\n",
      "146번째 페이지 내 로봇 의 채용공고 크롤링을 완료했습니다.\n",
      "최종 엑셀 작업 마무리 중 입니다.\n",
      "147번째 페이지 내 로봇 의 채용공고 크롤링을 완료했습니다.\n",
      "최종 엑셀 작업 마무리 중 입니다.\n",
      "잡코리아 크롤링이 완료되었습니다.\n"
     ]
    }
   ],
   "source": [
    "for n in range(140, 148):\n",
    "    raw = requests.get(\n",
    "        \"https://www.jobkorea.co.kr/Search/?stext={}&tabType=recruit&Page_No=\".format(keyword)+str(n),\n",
    "        headers={'User-Agent':'Mozilla/5.0'})\n",
    "    html = BeautifulSoup(raw.text, \"html.parser\")\n",
    "    results = html.select(\"li.list-post\")\n",
    "\n",
    "    for ar in  results[0:8]:\n",
    "        company_name = ar.select_one(\"a.name\").text.strip()\n",
    "        detail = ar.select_one(\"a.title\").text.strip()\n",
    "        url = 'https://www.jobkorea.co.kr'+ar.find(\"a\")['href']\n",
    "        exp = ar.select_one(\"span.exp\").text.strip()\n",
    "        location = ar.select_one(\"span.loc\").text.strip()\n",
    "        apply = ar.select_one(\"div.post-list-apply\").text.strip()\n",
    "        company_name = company_name.replace(\",\", \"\")\n",
    "        location = location.replace(\" 외\", \"\")\n",
    "        now = datetime.datetime.now()\n",
    "        nowDate = now.strftime('%Y-%m-%d')\n",
    "        f.write(nowDate + ',' +company_name + ',' + detail + ','\n",
    "            + url + ',' + exp + ',' + location + ',' + apply + '\\n')\n",
    "        time.sleep(1)\n",
    "\n",
    "    print(\n",
    "        str(n) + \"번째 페이지 내 \" \n",
    "        + str(keyword) + \" 의 채용공고 크롤링을 완료했습니다.\") \n",
    "    print(\"최종 엑셀 작업 마무리 중 입니다.\")\n",
    "\n",
    "f.close()\n",
    "\n",
    "print(\"잡코리아 크롤링이 완료되었습니다.\")"
   ]
  },
  {
   "cell_type": "markdown",
   "metadata": {},
   "source": [
    "---"
   ]
  },
  {
   "attachments": {},
   "cell_type": "markdown",
   "metadata": {},
   "source": [
    "우대사항, 자격요건 등의 세부정보 가져오기"
   ]
  },
  {
   "cell_type": "markdown",
   "metadata": {},
   "source": [
    "BeautifulSoup 으로 시도 - 잘 안됨"
   ]
  },
  {
   "attachments": {},
   "cell_type": "markdown",
   "metadata": {},
   "source": [
    "- 필요한 정보가 p 태그안에 text로 있음"
   ]
  },
  {
   "cell_type": "code",
   "execution_count": 92,
   "metadata": {},
   "outputs": [
    {
     "name": "stdout",
     "output_type": "stream",
     "text": [
      "<p class=\"jobNum\">\n",
      "<a class=\"girBtn girBtn_7\" href=\"/Recruit/Co_Read/C/c-036526?Oem_Code=C1\" target=\"_blank\" title=\"기업정보(새창)\">\n",
      "<span class=\"tahoma\">13</span>개의 채용공고 진행중\n",
      "                    </a>\n",
      "</p>\n"
     ]
    }
   ],
   "source": [
    "keyword = '로봇'\n",
    "raw2 = \\\n",
    "    requests.get(\n",
    "    \"https://www.jobkorea.co.kr/Recruit/GI_Read/40945239?Oem_Code=C1&logpath=1&stext={}&listno=4\".format(keyword),\n",
    "    headers={'User-Agent':'Mozilla/5.0'})\n",
    "html2 = BeautifulSoup(raw2.text, \"html.parser\")\n",
    "#dev-template-v2-part > div\n",
    "# print(html2.find_all(class_='header'))\n",
    "a = html2.find_all('p')\n",
    "print(a[16])\n",
    "\n",
    "\n",
    "\n",
    "# results2 = html2.select_one(\n",
    "#     '#dev-template-v2-part > div > table > tbody > tr > td:nth-child(2)')\n",
    "\n",
    "# results2\n",
    "\n",
    "\n",
    "# 담당업무, 요구사항, 우대사항\n",
    "# task = \n",
    "# reqment = \n",
    "# pref = "
   ]
  },
  {
   "cell_type": "code",
   "execution_count": 108,
   "metadata": {},
   "outputs": [],
   "source": [
    "url =\"https://www.jobkorea.co.kr/Recruit/GI_Read/40945239?Oem_Code=C1&logpath=1&stext={keyword}&listno=5\"\n",
    "req = Request(url.format(keyword=urllib.parse.quote(\"로봇\")))\n",
    "res = urlopen(req)\n",
    "\n",
    "soup = BeautifulSoup(res, 'html.parser')"
   ]
  },
  {
   "cell_type": "code",
   "execution_count": 109,
   "metadata": {},
   "outputs": [
    {
     "name": "stdout",
     "output_type": "stream",
     "text": [
      "[0] ===============================\n",
      "<p><a href=\"#container\">메뉴 건너뛰기</a></p>\n",
      "[1] ===============================\n",
      "<p class=\"btnArrow\" id=\"btnArrow_C\"><button class=\"devAcDisabledInfoOpen\" title=\"열림\" type=\"button\"><span class=\"blind\">열림</span></button></p>\n",
      "[2] ===============================\n",
      "<p class=\"description\">\n",
      "                                키워드를 입력하시면<br/> 검색어와 채용정보를 추천해드립니다.\n",
      "                            </p>\n",
      "[3] ===============================\n",
      "<p class=\"btnOdd\">\n",
      "<button id=\"devAcOn\" type=\"button\">기능켜기</button> <span>|</span>\n",
      "<button class=\"odd\" id=\"devAcInfoClose\" type=\"button\">닫기</button>\n",
      "</p>\n",
      "[4] ===============================\n",
      "<p class=\"btnArrow btnArrowClose\" id=\"btnArrow_O\"><button class=\"devAcDisabledInfoClose\" title=\"닫힘\" type=\"button\"><span class=\"blind\">닫힘</span></button></p>\n",
      "[5] ===============================\n",
      "<p class=\"btnOdd\">\n",
      "<button class=\"odd\" id=\"devAcOff\" type=\"button\">기능끄기</button>\n",
      "</p>\n",
      "[6] ===============================\n",
      "<p class=\"tx\">헤드헌터에게<strong>취업/이직 제의</strong>받으세요</p>\n",
      "[7] ===============================\n",
      "<p class=\"txLogin\">취업을 원하시나요?</p>\n",
      "[8] ===============================\n",
      "<p class=\"txLogin\">인재를 찾으시나요?</p>\n",
      "[9] ===============================\n",
      "<p class=\"total\">총 <span class=\"num\" id=\"recentTotal\"></span>건</p>\n",
      "[10] ===============================\n",
      "<p class=\"txt\">관심기업 추가하고 <em>채용소식 받기</em></p>\n",
      "[11] ===============================\n",
      "<p>\n",
      "<a href=\"/Recruit/Co_Read/C/c-036526?Oem_Code=C1\" onclick=\"GA_Event('공고_PC', '기업정보상단', '기업로고_포스코ICT');\" target=\"_blank\" title=\"새창\"><img alt=\"포스코ICT\" id=\"cologo\" name=\"cologo\" onload=\"go_logo_size(this, 100, 40);\" src=\"//imgs.jobkorea.co.kr/img1/_whitebg/200X80/Co_Logo/Logo/2017/7/2135s008R-_4X5u6963021-0esY8U6_9-2s-.jpg?v=202301311557&amp;hash=r&amp;serviceCode=CL\"/></a>\n",
      "</p>\n",
      "[12] ===============================\n",
      "<p class=\"deadlineInfo\" id=\"devTimeGuide\">\n",
      "</p>\n",
      "[13] ===============================\n",
      "<p class=\"deadline\">\n",
      "</p>\n",
      "[14] ===============================\n",
      "<p class=\"btnCar\"><button class=\"girBtn girBtnCar devTplLyBtn\" id=\"btnCalendar\" type=\"button\"><span>달력보기</span></button></p>\n",
      "[15] ===============================\n",
      "<p class=\"textEnd\">마감일은 기업의 사정으로 인해 조기 마감 또는 변경될 수 있습니다.</p>\n",
      "[16] ===============================\n",
      "<p class=\"jobNum\">\n",
      "<a class=\"girBtn girBtn_7\" href=\"/Recruit/Co_Read/C/c-036526?Oem_Code=C1\" target=\"_blank\" title=\"기업정보(새창)\">\n",
      "<span class=\"tahoma\">13</span>개의 채용공고 진행중\n",
      "                    </a>\n",
      "</p>\n",
      "[17] ===============================\n",
      "<p class=\"logo\">\n",
      "<a href=\"/Recruit/Co_Read/C/c-036526?Oem_Code=C1\" onclick=\"GA_Event('공고_PC', '기업정보하단', '기업로고_포스코ICT');\" target=\"_blank\" title=\"새창\"><img alt=\"포스코ICT\" id=\"cologo\" name=\"cologo\" onload=\"go_logo_size(this, 180, 72);\" src=\"//imgs.jobkorea.co.kr/img1/_whitebg/200X80/Co_Logo/Logo/2017/7/2135s008R-_4X5u6963021-0esY8U6_9-2s-.jpg?v=202301311557&amp;hash=r&amp;serviceCode=CL\"/></a>\n",
      "</p>\n",
      "[18] ===============================\n",
      "<p class=\"coBtn\">\n",
      "<a class=\"girBtn girBtn_3\" href=\"/Recruit/Co_Read/C/c-036526?Oem_Code=C1\" onclick=\"GA_Event('공고_PC', '기업정보하단', '기업정보_포스코ICT');\" target=\"_blank\" title=\"새창\"><span>기업정보</span></a>\n",
      "<button class=\"girBtn girBtn_2 girBtnFav devFavor5_21585909\" onclick=\"GA_Event('공고_PC', '기업정보하단', '관심_' + ($(this).hasClass('girBtnFavOn')?'해제':'등록') + '_포스코ICT');go_favor('21585909');\" type=\"button\"><span><strong class=\"tahoma devFavorCnt\">2113</strong>관심기업</span></button>\n",
      "<a class=\"girBtn girBtn_3\" href=\"/Salary/670943\" onclick=\"GA_Event('공고_PC', '기업정보하단', '연봉정보_포스코ICT');\" target=\"_blank\" title=\"새창\"><span>연봉정보</span></a>\n",
      "</p>\n",
      "[19] ===============================\n",
      "<p class=\"btnMore\" style=\"display:none;\">\n",
      "<button class=\"tplBtn tplBtnOpn_1 devBtnSearchMore\" type=\"button\"><span class=\"blind\">관련 키워드 더보기</span></button>\n",
      "</p>\n",
      "[20] ===============================\n",
      "<p aria-hidden=\"true\" class=\"recurit-copyright--content\" id=\"toggle-target\">\n",
      "                본 채용정보는 <strong>포스코ICT</strong>에서 제공한 자료를 바탕으로 잡코리아가 편집 및 그 표현방법을 수정하여 완성한 것입니다.\n",
      "                본 정보는 잡코리아의 동의 없이 무단전재 또는 재배포, 재가공할 수 없으며, 게재된 채용기업과 채용담당자의 정보는 구직활동 이외의 용도로 사용될 수 없습니다.\n",
      "                잡코리아는 <strong>포스코ICT</strong>에서 게재한 자료에 대한 오류와 사용자가 이를 신뢰하여 취한 조치에 대해 책임을 지지 않습니다.\n",
      "                &lt;저작권자 ⓒ잡코리아. 무단전재-재배포금지&gt;\n",
      "                \n",
      "            </p>\n",
      "[21] ===============================\n",
      "<p class=\"lyBtn\">\n",
      "<button class=\"tplBtnTy tplLyBtnClose_1 devLyBtnClose\" type=\"button\">\n",
      "<span class=\"blind\">스크랩폴더 레이어 닫기</span>\n",
      "</button>\n",
      "</p>\n",
      "[22] ===============================\n",
      "<p class=\"footer__advertisement--text\"><iframe frameborder=\"0\" height=\"35\" marginheight=\"0\" marginwidth=\"0\" scrolling=\"no\" src=\"https://yellow.contentsfeed.com/RealMedia/ads/adstream_sx.ads/jobkorea/sub@Frame1\" title=\"광고\" width=\"195\"></iframe></p>\n",
      "[23] ===============================\n",
      "<p class=\"footer__advertisement--image\"><iframe frameborder=\"0\" height=\"110\" marginheight=\"0\" marginwidth=\"0\" noresize=\"\" scrolling=\"no\" src=\"https://yellow.contentsfeed.com/RealMedia/ads/adstream_sx.ads/jobkorea/sub@Bottom\" title=\"광고\" width=\"495\"></iframe></p>\n",
      "[24] ===============================\n",
      "<p class=\"footer__advertisement--text\"><iframe frameborder=\"0\" height=\"35\" marginheight=\"0\" marginwidth=\"0\" scrolling=\"no\" src=\"https://yellow.contentsfeed.com/RealMedia/ads/adstream_sx.ads/jobkorea/sub@Frame2\" title=\"광고\" width=\"195\"></iframe></p>\n",
      "[25] ===============================\n",
      "<p class=\"copyright tahoma\">\n",
      "            © <strong><a href=\"http://company.jobkorea.co.kr/\" target=\"_blank\">JOBKOREA</a></strong> LLC. All rights reserved.\n",
      "        </p>\n"
     ]
    }
   ],
   "source": [
    "n = 0\n",
    "for each in soup.find_all('p'):\n",
    "    print(\"[\" + str(n) + \"] ===============================\")\n",
    "    print(each)\n",
    "    n+=1"
   ]
  },
  {
   "cell_type": "code",
   "execution_count": 157,
   "metadata": {},
   "outputs": [
    {
     "data": {
      "text/plain": [
       "bs4.BeautifulSoup"
      ]
     },
     "execution_count": 157,
     "metadata": {},
     "output_type": "execute_result"
    }
   ],
   "source": [
    "soup"
   ]
  },
  {
   "cell_type": "code",
   "execution_count": 132,
   "metadata": {},
   "outputs": [
    {
     "data": {
      "text/plain": [
       "bs4.element.Tag"
      ]
     },
     "execution_count": 132,
     "metadata": {},
     "output_type": "execute_result"
    }
   ],
   "source": [
    "a = soup.find_all('p')[16]\n",
    "type(a)"
   ]
  },
  {
   "cell_type": "code",
   "execution_count": 153,
   "metadata": {},
   "outputs": [
    {
     "data": {
      "text/plain": [
       "[]"
      ]
     },
     "execution_count": 153,
     "metadata": {},
     "output_type": "execute_result"
    }
   ],
   "source": [
    "# inner html에 접근하기 위해 상위 태그로 접근\n",
    "tmp = soup.find(id='gib_frame')\n",
    "tmp\n",
    "\n",
    "# 잘 안됨\n",
    "# soup2 = BeautifulSoup(tmp, 'html.parser')\n",
    "# tmp.find_all('p')\n",
    "tmp.select(\"#text\")"
   ]
  },
  {
   "cell_type": "markdown",
   "metadata": {},
   "source": [
    "---"
   ]
  },
  {
   "cell_type": "markdown",
   "metadata": {},
   "source": [
    "## 셀레니움으로 해보자"
   ]
  },
  {
   "cell_type": "code",
   "execution_count": 4,
   "metadata": {},
   "outputs": [],
   "source": [
    "from selenium import webdriver\n",
    "from selenium.webdriver.chrome.service import Service\n",
    "from selenium.webdriver.common.by import By\n",
    "from selenium.webdriver.common.keys import Keys\n",
    "from selenium.webdriver import ActionChains\n",
    "from bs4 import BeautifulSoup\n",
    "import time\n",
    "from tqdm.notebook import tqdm\n",
    "from selenium.webdriver.support.wait import WebDriverWait\n",
    "import pandas as pd\n",
    "from selenium.webdriver.support import expected_conditions as EC\n",
    "from selenium.webdriver.support.ui import Select"
   ]
  },
  {
   "cell_type": "markdown",
   "metadata": {},
   "source": [
    "한 페이지로 연습"
   ]
  },
  {
   "cell_type": "code",
   "execution_count": 49,
   "metadata": {},
   "outputs": [],
   "source": [
    "chrome_options = webdriver.ChromeOptions()\n",
    "\n",
    "url = 'https://www.jobkorea.co.kr/Recruit/GI_Read/40945239?Oem_Code=C1&logpath=1&stext=%EB%A1%9C%EB%B4%87&listno=4'\n",
    "driver = webdriver.Chrome(service=Service('../driver/chromedriver'),\n",
    "                                           options=chrome_options)\n",
    "driver.get(url)"
   ]
  },
  {
   "attachments": {},
   "cell_type": "markdown",
   "metadata": {},
   "source": [
    "- html 안에 또 다른 html이 있는 경우, iframe으로 먼저 전환해주어야 한다고 함\n",
    "- Beautifulsoup도 iframe으로 request.get()을 활용해 전환해준다면, 내부의 다른 html의 정보를 얻을 수 있을 거라 생각됨"
   ]
  },
  {
   "cell_type": "code",
   "execution_count": 50,
   "metadata": {},
   "outputs": [],
   "source": [
    "driver.switch_to.frame(driver.find_element(By.NAME, 'gib_frame'))\n",
    "#driver.find_element(By.XPATH, '//*[@id=\"dev-template-v2-part\"]/div/table/tbody/tr/td[2]/p[3]')"
   ]
  },
  {
   "cell_type": "code",
   "execution_count": 55,
   "metadata": {},
   "outputs": [
    {
     "data": {
      "text/plain": [
       "'담당업무  [기계] ㆍ산업용 로봇 및 AGV를 활용한 공정분석 및 자동화 설계    - 산업용 로봇 프로그래밍 부문 : 공정분석, 3D 시뮬레이션, 프로그램 개발, 티칭,      시운전 등    - 제철소 및 대외 로봇사업 제안서 작성지원  자격요건 ㆍ기계/전기분야 전공자(기계공학, 전기공학, 로봇, 메카트로닉스 등) ㆍ3D 시뮬레이션, OLP 사용 가능자 ㆍAutocad 사용 가능자 ㆍ산업용 로봇 프로그램 티칭 경험자  우대사항 ㆍ제철소 등 철강분야 로봇 자동화 프로젝트 경험자(3년 이상)  근무지 ㆍ광양'"
      ]
     },
     "execution_count": 55,
     "metadata": {},
     "output_type": "execute_result"
    }
   ],
   "source": [
    "css_sel = '#dev-template-v2-part > div > table > tbody > tr > td:nth-child(2)'\n",
    "a = driver.find_element(By.CSS_SELECTOR, css_sel)\n",
    "tmp_detail = a.text\n",
    "detail = tmp_detail.split('\\n\\n')\n",
    "for each in detail:\n",
    "    each = each.strip()\n"
   ]
  },
  {
   "cell_type": "markdown",
   "metadata": {},
   "source": [
    "---"
   ]
  },
  {
   "cell_type": "code",
   "execution_count": 9,
   "metadata": {},
   "outputs": [
    {
     "data": {
      "text/html": [
       "<div>\n",
       "<style scoped>\n",
       "    .dataframe tbody tr th:only-of-type {\n",
       "        vertical-align: middle;\n",
       "    }\n",
       "\n",
       "    .dataframe tbody tr th {\n",
       "        vertical-align: top;\n",
       "    }\n",
       "\n",
       "    .dataframe thead th {\n",
       "        text-align: right;\n",
       "    }\n",
       "</style>\n",
       "<table border=\"1\" class=\"dataframe\">\n",
       "  <thead>\n",
       "    <tr style=\"text-align: right;\">\n",
       "      <th></th>\n",
       "      <th>date</th>\n",
       "      <th>회사명</th>\n",
       "      <th>직무</th>\n",
       "      <th>url</th>\n",
       "      <th>경력</th>\n",
       "      <th>위치</th>\n",
       "      <th>지원방식</th>\n",
       "    </tr>\n",
       "  </thead>\n",
       "  <tbody>\n",
       "    <tr>\n",
       "      <th>2839</th>\n",
       "      <td>2023-02-04</td>\n",
       "      <td>㈜펌프킨</td>\n",
       "      <td>전기차 충전기 F/W HMI S/W 개발 신입 및 경력자 채용</td>\n",
       "      <td>https://www.jobkorea.co.kr/Recruit/GI_Read/406...</td>\n",
       "      <td>신입·경력</td>\n",
       "      <td>경기</td>\n",
       "      <td>즉시지원</td>\n",
       "    </tr>\n",
       "    <tr>\n",
       "      <th>2840</th>\n",
       "      <td>2023-02-04</td>\n",
       "      <td>㈜한창이지엠</td>\n",
       "      <td>인재를 모십니다 전장품 생산 기능직(주/야) / OP수삽검사공정품질</td>\n",
       "      <td>https://www.jobkorea.co.kr/Recruit/GI_Read/406...</td>\n",
       "      <td>경력무관</td>\n",
       "      <td>충남</td>\n",
       "      <td>즉시지원</td>\n",
       "    </tr>\n",
       "    <tr>\n",
       "      <th>2841</th>\n",
       "      <td>2023-02-04</td>\n",
       "      <td>에너진㈜</td>\n",
       "      <td>금형캐드원/기계캐드원 부문 담당자 모집(CATIACAD두 프로그램 모두 가능자정규직))</td>\n",
       "      <td>https://www.jobkorea.co.kr/Recruit/GI_Read/406...</td>\n",
       "      <td>경력3년↑</td>\n",
       "      <td>경기</td>\n",
       "      <td>즉시지원</td>\n",
       "    </tr>\n",
       "    <tr>\n",
       "      <th>2842</th>\n",
       "      <td>2023-02-04</td>\n",
       "      <td>㈜마루에이치알</td>\n",
       "      <td>[영어가능자/문래역] UPS KOREA 무역사무 사무직 직원 모집</td>\n",
       "      <td>https://www.jobkorea.co.kr/Recruit/GI_Read/406...</td>\n",
       "      <td>경력무관</td>\n",
       "      <td>서울</td>\n",
       "      <td>즉시지원</td>\n",
       "    </tr>\n",
       "    <tr>\n",
       "      <th>2843</th>\n",
       "      <td>2023-02-04</td>\n",
       "      <td>굿스트림</td>\n",
       "      <td>JAVA/C# 프로그래머 개발자 모집 (충북청주)</td>\n",
       "      <td>https://www.jobkorea.co.kr/Recruit/GI_Read/406...</td>\n",
       "      <td>경력무관</td>\n",
       "      <td>충북</td>\n",
       "      <td>즉시지원</td>\n",
       "    </tr>\n",
       "  </tbody>\n",
       "</table>\n",
       "</div>"
      ],
      "text/plain": [
       "            date      회사명                                                직무  \\\n",
       "2839  2023-02-04     ㈜펌프킨                전기차 충전기 F/W HMI S/W 개발 신입 및 경력자 채용   \n",
       "2840  2023-02-04   ㈜한창이지엠             인재를 모십니다 전장품 생산 기능직(주/야) / OP수삽검사공정품질   \n",
       "2841  2023-02-04     에너진㈜  금형캐드원/기계캐드원 부문 담당자 모집(CATIACAD두 프로그램 모두 가능자정규직))   \n",
       "2842  2023-02-04  ㈜마루에이치알              [영어가능자/문래역] UPS KOREA 무역사무 사무직 직원 모집   \n",
       "2843  2023-02-04     굿스트림                       JAVA/C# 프로그래머 개발자 모집 (충북청주)   \n",
       "\n",
       "                                                    url     경력  위치  지원방식  \n",
       "2839  https://www.jobkorea.co.kr/Recruit/GI_Read/406...  신입·경력  경기  즉시지원  \n",
       "2840  https://www.jobkorea.co.kr/Recruit/GI_Read/406...   경력무관  충남  즉시지원  \n",
       "2841  https://www.jobkorea.co.kr/Recruit/GI_Read/406...  경력3년↑  경기  즉시지원  \n",
       "2842  https://www.jobkorea.co.kr/Recruit/GI_Read/406...   경력무관  서울  즉시지원  \n",
       "2843  https://www.jobkorea.co.kr/Recruit/GI_Read/406...   경력무관  충북  즉시지원  "
      ]
     },
     "execution_count": 9,
     "metadata": {},
     "output_type": "execute_result"
    }
   ],
   "source": [
    "jobkorea_df = pd.read_csv('../../../data/jobkorea_robot.csv')\n",
    "jobkorea_df.tail()"
   ]
  },
  {
   "cell_type": "code",
   "execution_count": 10,
   "metadata": {},
   "outputs": [],
   "source": [
    "# TODO \n",
    "# 세부사항 list 만들기\n",
    "# 고려사항 - 이미지로 된 경우와 같이 세부 내용이 없거나 긁어오기 힘든 경우 -> 공백 할당"
   ]
  },
  {
   "cell_type": "code",
   "execution_count": null,
   "metadata": {},
   "outputs": [],
   "source": [
    "# 담당업무, 자격요건, 우대사항 등의 세부내용 list\n",
    "detail_list = []"
   ]
  },
  {
   "cell_type": "code",
   "execution_count": null,
   "metadata": {},
   "outputs": [],
   "source": [
    "# 봇감지로 멈췄을 때, 이전의 데이터와 병합\n",
    "detail_list += tmp_list\n",
    "len(tmp_list)"
   ]
  },
  {
   "cell_type": "code",
   "execution_count": null,
   "metadata": {},
   "outputs": [],
   "source": [
    "# 채용 공고 마감된 경우 실행\n",
    "tmp_list.append('채용공고 마감')"
   ]
  },
  {
   "cell_type": "code",
   "execution_count": 48,
   "metadata": {},
   "outputs": [
    {
     "data": {
      "text/plain": [
       "pandas.core.frame.DataFrame"
      ]
     },
     "execution_count": 48,
     "metadata": {},
     "output_type": "execute_result"
    }
   ],
   "source": [
    "chrome_options = webdriver.ChromeOptions()\n",
    "\n",
    "# 중단된 부분부터 담을 list\n",
    "tmp_list = []\n",
    "\n",
    "for i in range(len(tmp_list), len(jobkorea_df)):\n",
    "    url = jobkorea_df['url'][i]\n",
    "    driver=webdriver.Chrome(service=Service('./chromedriver'), options=chrome_options)\n",
    "    driver.get(url)\n",
    "    driver.implicitly_wait(5)\n",
    "\n",
    "    driver.switch_to.frame(driver.find_element(By.NAME, 'gib_frame'))\n",
    "    \n",
    "    try:\n",
    "        css = '#dev-template-v2-root > div.detailed-summary-contents'\n",
    "        tmp = driver.find_element(By.CSS_SELECTOR, css)\n",
    "        tmp_detail = tmp.text\n",
    "    except:\n",
    "        tmp_detail = ''\n",
    "    \n",
    "    \n",
    "\n",
    "    # if(len(tmp_detail) != 0):\n",
    "    #     tmp_detail.replace('\\n','')\n",
    "\n",
    "    detail_list.append(tmp_detail)\n",
    "    time.sleep(1)\n",
    "    driver.close()\n"
   ]
  },
  {
   "cell_type": "code",
   "execution_count": null,
   "metadata": {},
   "outputs": [],
   "source": [
    "import csv\n",
    "\n",
    "# list를 csv 파일로 저장\n",
    "with open('tmp_list(4).csv', 'w', newline='') as f:\n",
    "    writer = csv.writer(f)\n",
    "    writer.writerow(tmp_list)"
   ]
  },
  {
   "cell_type": "code",
   "execution_count": 17,
   "metadata": {},
   "outputs": [
    {
     "data": {
      "text/plain": [
       "2844"
      ]
     },
     "execution_count": 17,
     "metadata": {},
     "output_type": "execute_result"
    }
   ],
   "source": [
    "import csv\n",
    "\n",
    "# csv 파일을 list로 불러옴\n",
    "with open('tmp_list(7).csv', 'r', encoding='euc-kr') as f:\n",
    "    rdr = csv.reader(f)\n",
    "    for line in rdr:\n",
    "        ff = line\n",
    "\n",
    "len(ff)"
   ]
  },
  {
   "attachments": {},
   "cell_type": "markdown",
   "metadata": {},
   "source": [
    "- 세부정보 column을 데이터프레임에 추가"
   ]
  },
  {
   "cell_type": "code",
   "execution_count": 19,
   "metadata": {},
   "outputs": [
    {
     "data": {
      "text/html": [
       "<div>\n",
       "<style scoped>\n",
       "    .dataframe tbody tr th:only-of-type {\n",
       "        vertical-align: middle;\n",
       "    }\n",
       "\n",
       "    .dataframe tbody tr th {\n",
       "        vertical-align: top;\n",
       "    }\n",
       "\n",
       "    .dataframe thead th {\n",
       "        text-align: right;\n",
       "    }\n",
       "</style>\n",
       "<table border=\"1\" class=\"dataframe\">\n",
       "  <thead>\n",
       "    <tr style=\"text-align: right;\">\n",
       "      <th></th>\n",
       "      <th>date</th>\n",
       "      <th>회사명</th>\n",
       "      <th>직무</th>\n",
       "      <th>url</th>\n",
       "      <th>경력</th>\n",
       "      <th>위치</th>\n",
       "      <th>지원방식</th>\n",
       "      <th>세부정보</th>\n",
       "    </tr>\n",
       "  </thead>\n",
       "  <tbody>\n",
       "    <tr>\n",
       "      <th>2839</th>\n",
       "      <td>2023-02-04</td>\n",
       "      <td>㈜펌프킨</td>\n",
       "      <td>전기차 충전기 F/W HMI S/W 개발 신입 및 경력자 채용</td>\n",
       "      <td>https://www.jobkorea.co.kr/Recruit/GI_Read/406...</td>\n",
       "      <td>신입·경력</td>\n",
       "      <td>경기</td>\n",
       "      <td>즉시지원</td>\n",
       "      <td>모집분야 및 자격요건\\n모집분야명\\n( 0명 )\\n1. 소프트웨어 개발자\\n담당업무...</td>\n",
       "    </tr>\n",
       "    <tr>\n",
       "      <th>2840</th>\n",
       "      <td>2023-02-04</td>\n",
       "      <td>㈜한창이지엠</td>\n",
       "      <td>인재를 모십니다 전장품 생산 기능직(주/야) / OP수삽검사공정품질</td>\n",
       "      <td>https://www.jobkorea.co.kr/Recruit/GI_Read/406...</td>\n",
       "      <td>경력무관</td>\n",
       "      <td>충남</td>\n",
       "      <td>즉시지원</td>\n",
       "      <td>모집분야 및 자격요건\\n전장생산본부 전장품 \\n수삽/검사/설비보전/공정품질/OP \\...</td>\n",
       "    </tr>\n",
       "    <tr>\n",
       "      <th>2841</th>\n",
       "      <td>2023-02-04</td>\n",
       "      <td>에너진㈜</td>\n",
       "      <td>금형캐드원/기계캐드원 부문 담당자 모집(CATIACAD두 프로그램 모두 가능자정규직))</td>\n",
       "      <td>https://www.jobkorea.co.kr/Recruit/GI_Read/406...</td>\n",
       "      <td>경력3년↑</td>\n",
       "      <td>경기</td>\n",
       "      <td>즉시지원</td>\n",
       "      <td>모집분야 및 자격요건\\n금형캐드원/기계캐드원 부문 담당자 모집\\n( 2명 )\\n담당...</td>\n",
       "    </tr>\n",
       "    <tr>\n",
       "      <th>2842</th>\n",
       "      <td>2023-02-04</td>\n",
       "      <td>㈜마루에이치알</td>\n",
       "      <td>[영어가능자/문래역] UPS KOREA 무역사무 사무직 직원 모집</td>\n",
       "      <td>https://www.jobkorea.co.kr/Recruit/GI_Read/406...</td>\n",
       "      <td>경력무관</td>\n",
       "      <td>서울</td>\n",
       "      <td>즉시지원</td>\n",
       "      <td>모집분야 및 자격요건\\n무역사무\\n삼성SDS 전담부서 \\n( ○명 )\\n담당업무\\n...</td>\n",
       "    </tr>\n",
       "    <tr>\n",
       "      <th>2843</th>\n",
       "      <td>2023-02-04</td>\n",
       "      <td>굿스트림</td>\n",
       "      <td>JAVA/C# 프로그래머 개발자 모집 (충북청주)</td>\n",
       "      <td>https://www.jobkorea.co.kr/Recruit/GI_Read/406...</td>\n",
       "      <td>경력무관</td>\n",
       "      <td>충북</td>\n",
       "      <td>즉시지원</td>\n",
       "      <td>포지션 및 자격요건\\nJAVA / C# 개발자\\n( 2명 )\\n담당업무\\nㆍ생산관리...</td>\n",
       "    </tr>\n",
       "  </tbody>\n",
       "</table>\n",
       "</div>"
      ],
      "text/plain": [
       "            date      회사명                                                직무  \\\n",
       "2839  2023-02-04     ㈜펌프킨                전기차 충전기 F/W HMI S/W 개발 신입 및 경력자 채용   \n",
       "2840  2023-02-04   ㈜한창이지엠             인재를 모십니다 전장품 생산 기능직(주/야) / OP수삽검사공정품질   \n",
       "2841  2023-02-04     에너진㈜  금형캐드원/기계캐드원 부문 담당자 모집(CATIACAD두 프로그램 모두 가능자정규직))   \n",
       "2842  2023-02-04  ㈜마루에이치알              [영어가능자/문래역] UPS KOREA 무역사무 사무직 직원 모집   \n",
       "2843  2023-02-04     굿스트림                       JAVA/C# 프로그래머 개발자 모집 (충북청주)   \n",
       "\n",
       "                                                    url     경력  위치  지원방식  \\\n",
       "2839  https://www.jobkorea.co.kr/Recruit/GI_Read/406...  신입·경력  경기  즉시지원   \n",
       "2840  https://www.jobkorea.co.kr/Recruit/GI_Read/406...   경력무관  충남  즉시지원   \n",
       "2841  https://www.jobkorea.co.kr/Recruit/GI_Read/406...  경력3년↑  경기  즉시지원   \n",
       "2842  https://www.jobkorea.co.kr/Recruit/GI_Read/406...   경력무관  서울  즉시지원   \n",
       "2843  https://www.jobkorea.co.kr/Recruit/GI_Read/406...   경력무관  충북  즉시지원   \n",
       "\n",
       "                                                   세부정보  \n",
       "2839  모집분야 및 자격요건\\n모집분야명\\n( 0명 )\\n1. 소프트웨어 개발자\\n담당업무...  \n",
       "2840  모집분야 및 자격요건\\n전장생산본부 전장품 \\n수삽/검사/설비보전/공정품질/OP \\...  \n",
       "2841  모집분야 및 자격요건\\n금형캐드원/기계캐드원 부문 담당자 모집\\n( 2명 )\\n담당...  \n",
       "2842  모집분야 및 자격요건\\n무역사무\\n삼성SDS 전담부서 \\n( ○명 )\\n담당업무\\n...  \n",
       "2843  포지션 및 자격요건\\nJAVA / C# 개발자\\n( 2명 )\\n담당업무\\nㆍ생산관리...  "
      ]
     },
     "execution_count": 19,
     "metadata": {},
     "output_type": "execute_result"
    }
   ],
   "source": [
    "jobkorea_df['세부정보'] = ff\n",
    "jobkorea_df.tail()"
   ]
  },
  {
   "cell_type": "code",
   "execution_count": 20,
   "metadata": {},
   "outputs": [],
   "source": [
    "# 데이터 프레임 저장\n",
    "jobkorea_df.to_csv(\"jobkorea_details.csv\", mode='w')"
   ]
  }
 ],
 "metadata": {
  "kernelspec": {
   "display_name": "data_venv",
   "language": "python",
   "name": "python3"
  },
  "language_info": {
   "codemirror_mode": {
    "name": "ipython",
    "version": 3
   },
   "file_extension": ".py",
   "mimetype": "text/x-python",
   "name": "python",
   "nbconvert_exporter": "python",
   "pygments_lexer": "ipython3",
   "version": "3.8.10"
  },
  "orig_nbformat": 4,
  "vscode": {
   "interpreter": {
    "hash": "88b10e4843280c64a94c4d6494fefd4cc4c85b8d5a6320f70c0b8aa63227add5"
   }
  }
 },
 "nbformat": 4,
 "nbformat_minor": 2
}
